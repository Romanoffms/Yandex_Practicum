{
 "cells": [
  {
   "cell_type": "markdown",
   "id": "66d8ad8f",
   "metadata": {},
   "source": [
    "#### Задание 1.Найдите количество вопросов, которые набрали больше 300 очков или как минимум 100 раз были добавлены в «Закладки»."
   ]
  },
  {
   "cell_type": "code",
   "execution_count": null,
   "id": "e37a0963",
   "metadata": {},
   "outputs": [],
   "source": [
    "SELECT COUNT(id)\n",
    "FROM stackoverflow.posts\n",
    "WHERE post_type_id=1 \n",
    "   AND (score>300 OR favorites_count >= 100)\n",
    "GROUP BY post_type_id; "
   ]
  },
  {
   "cell_type": "markdown",
   "id": "a3897246",
   "metadata": {},
   "source": [
    "#### Задание 2.Сколько в среднем в день задавали вопросов с 1 по 18 ноября 2008 включительно? Результат округлите до целого числа."
   ]
  },
  {
   "cell_type": "code",
   "execution_count": null,
   "id": "d814ddc3",
   "metadata": {},
   "outputs": [],
   "source": [
    "SELECT ROUND(AVG(t.count),0)\n",
    "FROM (\n",
    "      SELECT COUNT(id),\n",
    "             creation_date::date\n",
    "      FROM stackoverflow.posts\n",
    "      WHERE post_type_id = 1\n",
    "      GROUP BY creation_date::date\n",
    "      HAVING creation_date::date BETWEEN '2008-11-01' AND '2008-11-18') AS t;"
   ]
  },
  {
   "cell_type": "markdown",
   "id": "db51d163",
   "metadata": {},
   "source": [
    "#### Задание 3. Сколько пользователей получили значки сразу в день регистрации? Выведите количество уникальных пользователей."
   ]
  },
  {
   "cell_type": "code",
   "execution_count": null,
   "id": "f456eded",
   "metadata": {},
   "outputs": [],
   "source": [
    "SELECT COUNT(DISTINCT u.id)\n",
    "FROM stackoverflow.badges AS b\n",
    "JOIN stackoverflow.users AS u ON b.user_id=u.id\n",
    "WHERE b.creation_date::date = u.creation_date::date;"
   ]
  },
  {
   "cell_type": "markdown",
   "id": "640a392b",
   "metadata": {},
   "source": [
    "#### Задание 4.Сколько уникальных постов пользователя с именем Joel Coehoorn получили хотя бы один голос?"
   ]
  },
  {
   "cell_type": "code",
   "execution_count": null,
   "id": "85055ca0",
   "metadata": {},
   "outputs": [],
   "source": [
    "SELECT COUNT(t.id)\n",
    "FROM (\n",
    "     SELECT p.id\n",
    "     FROM stackoverflow.posts AS p\n",
    "     JOIN stackoverflow.votes AS v ON p.id = v.post_id\n",
    "     JOIN stackoverflow.users AS u ON p.user_id = u.id\n",
    "     WHERE u.display_name LIKE 'Joel Coehoorn'\n",
    "     GROUP BY p.id\n",
    "     HAVING COUNT(v.id)>=1) as t;"
   ]
  },
  {
   "cell_type": "markdown",
   "id": "742576b5",
   "metadata": {},
   "source": [
    "#### Задание 5. Выгрузите все поля таблицы vote_types. Добавьте к таблице поле rank, в которое войдут номера записей в обратном порядке. Таблица должна быть отсортирована по полю id."
   ]
  },
  {
   "cell_type": "code",
   "execution_count": null,
   "id": "bcdb391f",
   "metadata": {},
   "outputs": [],
   "source": [
    "SELECT *,\n",
    "       ROW_NUMBER() OVER(ORDER BY id DESC) AS rank\n",
    "FROM stackoverflow.vote_types\n",
    "ORDER BY id;"
   ]
  },
  {
   "cell_type": "markdown",
   "id": "143da556",
   "metadata": {},
   "source": [
    "#### Задание 6. Отберите 10 пользователей, которые поставили больше всего голосов типа Close. Отобразите таблицу из двух полей: идентификатором пользователя и количеством голосов. Отсортируйте данные сначала по убыванию количества голосов, потом по убыванию значения идентификатора пользователя."
   ]
  },
  {
   "cell_type": "code",
   "execution_count": null,
   "id": "86e75d3c",
   "metadata": {},
   "outputs": [],
   "source": [
    "SELECT *\n",
    "FROM (\n",
    "      SELECT v.user_id,\n",
    "             COUNT(vt.id) AS cnt\n",
    "      FROM stackoverflow.votes AS v\n",
    "      JOIN stackoverflow.vote_types as vt ON vt.id = v.vote_type_id\n",
    "      WHERE vt.name LIKE 'Close'\n",
    "      GROUP BY v.user_id\n",
    "      ORDER BY cnt DESC LIMIT 10\n",
    "    ) AS t\n",
    "ORDER BY t.cnt DESC, t.user_id DESC;"
   ]
  },
  {
   "cell_type": "markdown",
   "id": "662589fe",
   "metadata": {},
   "source": [
    "#### Задание 7.Отберите 10 пользователей по количеству значков, полученных в период с 15 ноября по 15 декабря 2008 года включительно. Отобразите несколько полей:\n",
    "##### число значков;\n",
    "##### место в рейтинге — чем больше значков, тем выше рейтинг.\n",
    "#### Пользователям, которые набрали одинаковое количество значков, присвойте одно и то же место в рейтинге. Отсортируйте записи по количеству значков по убыванию, а затем по возрастанию значения идентификатора пользователя."
   ]
  },
  {
   "cell_type": "code",
   "execution_count": null,
   "id": "356a7664",
   "metadata": {},
   "outputs": [],
   "source": [
    "SELECT *,\n",
    "      DENSE_RANK() OVER (ORDER BY t.cnt DESC) AS n\n",
    "FROM (SELECT COUNT(id) AS  cnt,\n",
    "             user_id\n",
    "      FROM stackoverflow.badges\n",
    "      WHERE creation_date::date BETWEEN '2008-11-15' AND '2008-12-15' \n",
    "      GROUP BY 2\n",
    "      ORDER BY cnt DESC, user_id LIMIT 10) as t;"
   ]
  },
  {
   "cell_type": "markdown",
   "id": "e1d4e004",
   "metadata": {},
   "source": [
    "#### Задание 8. Сколько в среднем очков получает пост каждого пользователя? Сформируйте таблицу из следующих полей:\n",
    "##### заголовок поста; \n",
    "##### идентификатор пользователя;\n",
    "##### число очков поста;\n",
    "##### среднее число очков пользователя за пост, округлённое до целого числа.\n",
    "#### Не учитывайте посты без заголовка, а также те, что набрали ноль очков."
   ]
  },
  {
   "cell_type": "code",
   "execution_count": null,
   "id": "9f1a245d",
   "metadata": {},
   "outputs": [],
   "source": [
    "WITH t AS (\n",
    "SELECT ROUND(AVG(score)) AS avg_score,\n",
    "       user_id\n",
    "FROM stackoverflow.posts\n",
    "WHERE title IS NOT NULL \n",
    "   AND score <> 0\n",
    "GROUP BY user_id\n",
    ")\n",
    "\n",
    "SELECT p.title,\n",
    "       t.user_id,\n",
    "       p.score,\n",
    "       t.avg_score\n",
    "FROM t \n",
    "JOIN stackoverflow.posts AS p ON t.user_id=p.user_id\n",
    "WHERE p.title IS NOT NULL \n",
    "   AND p.score <> 0;   "
   ]
  },
  {
   "cell_type": "markdown",
   "id": "05305492",
   "metadata": {},
   "source": [
    "#### Задание 9.Отобразите заголовки постов, которые были написаны пользователями, получившими более 1000 значков. Посты без заголовков не должны попасть в список."
   ]
  },
  {
   "cell_type": "code",
   "execution_count": null,
   "id": "faf4a383",
   "metadata": {},
   "outputs": [],
   "source": [
    "SELECT title\n",
    "FROM stackoverflow.posts\n",
    "WHERE user_id IN (\n",
    "                  SELECT user_id\n",
    "                  FROM stackoverflow.badges\n",
    "                  GROUP BY user_id\n",
    "                  HAVING COUNT(id) >1000\n",
    "                  )\n",
    "  AND title IS NOT NULL;"
   ]
  },
  {
   "cell_type": "markdown",
   "id": "82cdd354",
   "metadata": {},
   "source": [
    "#### Задание 10. Напишите запрос, который выгрузит данные о пользователях из США (англ. United States). Разделите пользователей на три группы в зависимости от количества просмотров их профилей:\n",
    "##### пользователям с числом просмотров больше либо равным 350 присвойте группу 1;\n",
    "##### пользователям с числом просмотров меньше 350, но больше либо равно 100 — группу 2;\n",
    "##### пользователям с числом просмотров меньше 100 — группу 3.\n",
    "#### Отобразите в итоговой таблице идентификатор пользователя, количество просмотров профиля и группу. Пользователи с нулевым количеством просмотров не должны войти в итоговую таблицу."
   ]
  },
  {
   "cell_type": "code",
   "execution_count": null,
   "id": "703d476c",
   "metadata": {},
   "outputs": [],
   "source": [
    "SELECT id,\n",
    "       views,\n",
    "       CASE\n",
    "          WHEN views>=350 THEN 1\n",
    "          WHEN views<100 THEN 3\n",
    "          ELSE 2\n",
    "       END AS group\n",
    "FROM stackoverflow.users\n",
    "WHERE location LIKE '%United States%'\n",
    "   AND views > 0;"
   ]
  },
  {
   "cell_type": "markdown",
   "id": "e4da51fa",
   "metadata": {},
   "source": [
    "#### Задание 11.Дополните предыдущий запрос. Отобразите лидеров каждой группы — пользователей, которые набрали максимальное число просмотров в своей группе. Выведите поля с идентификатором пользователя, группой и количеством просмотров. Отсортируйте таблицу по убыванию просмотров, а затем по возрастанию значения идентификатора."
   ]
  },
  {
   "cell_type": "code",
   "execution_count": null,
   "id": "8d3546f7",
   "metadata": {},
   "outputs": [],
   "source": [
    "WITH tab AS\n",
    "(SELECT t.id,\n",
    "        t.views,\n",
    "        t.group,\n",
    "        MAX(t.views) OVER (PARTITION BY t.group) AS max\t\n",
    " FROM (SELECT id,\n",
    "              views,\n",
    "              CASE\n",
    "                 WHEN views>=350 THEN 1\n",
    "                 WHEN views<100 THEN 3\n",
    "                 ELSE 2\n",
    "              END AS group\n",
    "       FROM stackoverflow.users\n",
    "       WHERE location LIKE '%United States%'\n",
    "          AND views > 0\n",
    "          ) as t\n",
    "  )\n",
    "  \n",
    "SELECT tab.id, \n",
    "       tab.views,  \n",
    "       tab.group\n",
    "FROM tab\n",
    "WHERE tab.views = tab.max\n",
    "ORDER BY tab.views DESC, tab.id;"
   ]
  },
  {
   "cell_type": "markdown",
   "id": "6b33bc7f",
   "metadata": {},
   "source": [
    "#### Задание 12.Посчитайте ежедневный прирост новых пользователей в ноябре 2008 года. Сформируйте таблицу с полями:\n",
    "##### номер дня;\n",
    "##### число пользователей, зарегистрированных в этот день;\n",
    "##### сумму пользователей с накоплением.\n"
   ]
  },
  {
   "cell_type": "code",
   "execution_count": null,
   "id": "3314fb77",
   "metadata": {},
   "outputs": [],
   "source": [
    "SELECT *,\n",
    "       SUM(t.cnt_id) OVER (ORDER BY t.days) as nn\n",
    "FROM (\n",
    "      SELECT EXTRACT(DAY FROM creation_date::date) AS days,\n",
    "             COUNT(id) AS cnt_id\n",
    "      FROM stackoverflow.users\n",
    "      WHERE creation_date::date BETWEEN '2008-11-01' AND '2008-11-30'\n",
    "      GROUP BY EXTRACT(DAY FROM creation_date::date)\n",
    "      ) as t;"
   ]
  },
  {
   "cell_type": "markdown",
   "id": "e8f1c581",
   "metadata": {},
   "source": [
    "#### Задание 13.Для каждого пользователя, который написал хотя бы один пост, найдите интервал между регистрацией и временем создания первого поста. Отобразите:\n",
    "##### идентификатор пользователя;\n",
    "##### разницу во времени между регистрацией и первым постом."
   ]
  },
  {
   "cell_type": "code",
   "execution_count": null,
   "id": "d5256b53",
   "metadata": {},
   "outputs": [],
   "source": [
    "WITH p AS\n",
    "(SELECT DISTINCT user_id,\n",
    "        MIN(creation_date) OVER (PARTITION BY user_id) AS min_dt\t\t\t\t\t\n",
    " FROM stackoverflow.posts\n",
    ")\n",
    "\n",
    "SELECT p.user_id,\n",
    "       (p.min_dt - u.creation_date) AS diff\n",
    "FROM stackoverflow.users AS u \n",
    "JOIN p ON  u.id = p.user_id;"
   ]
  },
  {
   "cell_type": "markdown",
   "id": "8a382ff2",
   "metadata": {},
   "source": [
    "#### Задание 14.Выведите общую сумму просмотров постов за каждый месяц 2008 года. Если данных за какой-либо месяц в базе нет, такой месяц можно пропустить. Результат отсортируйте по убыванию общего количества просмотров.\n"
   ]
  },
  {
   "cell_type": "code",
   "execution_count": null,
   "id": "3800167d",
   "metadata": {},
   "outputs": [],
   "source": [
    "SELECT SUM(views_count),\n",
    "       DATE_TRUNC('month', creation_date)::date AS mnth\n",
    "FROM stackoverflow.posts\n",
    "GROUP BY DATE_TRUNC('month', creation_date)::date\n",
    "ORDER BY SUM(views_count) DESC;"
   ]
  },
  {
   "cell_type": "markdown",
   "id": "1d3a8101",
   "metadata": {},
   "source": [
    "#### Задание 15.Выведите имена самых активных пользователей, которые в первый месяц после регистрации (включая день регистрации) дали больше 100 ответов. Вопросы, которые задавали пользователи, не учитывайте. Для каждого имени пользователя выведите количество уникальных значений user_id. Отсортируйте результат по полю с именами в лексикографическом порядке."
   ]
  },
  {
   "cell_type": "code",
   "execution_count": null,
   "id": "7b70bd9b",
   "metadata": {},
   "outputs": [],
   "source": [
    "SELECT u.display_name,\n",
    "       COUNT(DISTINCT p.user_id)\n",
    "FROM stackoverflow.posts AS p\n",
    "JOIN stackoverflow.users AS u ON p.user_id = u.id\n",
    "JOIN stackoverflow.post_types AS pt ON pt.id = p.post_type_id\n",
    "WHERE p.creation_date::date BETWEEN u.creation_date::date AND (u.creation_date::date + INTERVAL '1 month')\n",
    "   AND pt.type LIKE '%Answer%'\n",
    "GROUP BY u.display_name\n",
    "HAVING COUNT(p.id) > 100\n",
    "ORDER BY u.display_name;"
   ]
  },
  {
   "cell_type": "markdown",
   "id": "c8bbd934",
   "metadata": {},
   "source": [
    "#### Задание 16.Выведите количество постов за 2008 год по месяцам. Отберите посты от пользователей, которые зарегистрировались в сентябре 2008 года и сделали хотя бы один пост в декабре того же года. Отсортируйте таблицу по значению месяца по убыванию."
   ]
  },
  {
   "cell_type": "code",
   "execution_count": null,
   "id": "799c41c7",
   "metadata": {},
   "outputs": [],
   "source": [
    "WITH t AS (\n",
    "           SELECT u.id\n",
    "           FROM stackoverflow.posts AS p\n",
    "           JOIN stackoverflow.users AS u ON p.user_id = u.id\n",
    "           WHERE DATE_TRUNC('month', u.creation_date)::date = '2008-09-01'\n",
    "              AND DATE_TRUNC('month', p.creation_date)::date = '2008-12-01'\n",
    "           GROUP BY u.id\n",
    "           HAVING COUNT(p.id)>0\n",
    "          )\n",
    "\n",
    "SELECT COUNT(p.id),\n",
    "       DATE_TRUNC('month', p.creation_date)::date      \n",
    "FROM stackoverflow.posts AS p\n",
    "WHERE p.user_id IN (SELECT * FROM t)\n",
    "   AND DATE_TRUNC('year', p.creation_date)::date = '2008-01-01'\n",
    "GROUP BY DATE_TRUNC('month', p.creation_date)::date\n",
    "ORDER BY DATE_TRUNC('month', p.creation_date)::date DESC;"
   ]
  },
  {
   "cell_type": "markdown",
   "id": "f592c6f0",
   "metadata": {},
   "source": [
    "#### Задание 17.Используя данные о постах, выведите несколько полей:\n",
    "##### идентификатор пользователя, который написал пост;\n",
    "##### дата создания поста;\n",
    "##### количество просмотров у текущего поста;\n",
    "##### сумму просмотров постов автора с накоплением.\n",
    "#### Данные в таблице должны быть отсортированы по возрастанию идентификаторов пользователей, а данные об одном и том же пользователе — по возрастанию даты создания поста."
   ]
  },
  {
   "cell_type": "code",
   "execution_count": null,
   "id": "54f937fc",
   "metadata": {},
   "outputs": [],
   "source": [
    "SELECT user_id,\n",
    "       creation_date,\n",
    "       views_count,\n",
    "       SUM(views_count) OVER (PARTITION BY user_id ORDER BY creation_date)\t\t\t\t\t\t\n",
    "FROM stackoverflow.posts;"
   ]
  },
  {
   "cell_type": "markdown",
   "id": "3d904b0d",
   "metadata": {},
   "source": [
    "#### Задание 18.Сколько в среднем дней в период с 1 по 7 декабря 2008 года включительно пользователи взаимодействовали с платформой? Для каждого пользователя отберите дни, в которые он или она опубликовали хотя бы один пост. Нужно получить одно целое число — не забудьте округлить результат.\n"
   ]
  },
  {
   "cell_type": "code",
   "execution_count": null,
   "id": "d180ce5b",
   "metadata": {},
   "outputs": [],
   "source": [
    "SELECT ROUND(AVG(t.cnt))\n",
    "FROM (\n",
    "      SELECT user_id,\n",
    "             COUNT(DISTINCT creation_date::date)  AS cnt\n",
    "      FROM stackoverflow.posts\n",
    "      WHERE creation_date::date BETWEEN '2008-12-01' AND '2008-12-07' \n",
    "      GROUP BY user_id\n",
    ") AS t"
   ]
  },
  {
   "cell_type": "markdown",
   "id": "af088ada",
   "metadata": {},
   "source": [
    "#### Задание 19.На сколько процентов менялось количество постов ежемесячно с 1 сентября по 31 декабря 2008 года? Отобразите таблицу со следующими полями:\n",
    "##### номер месяца;\n",
    "##### количество постов за месяц;\n",
    "##### процент, который показывает, насколько изменилось количество постов в текущем месяце по сравнению с предыдущим.\n",
    "#### Если постов стало меньше, значение процента должно быть отрицательным, если больше — положительным. Округлите значение процента до двух знаков после запятой. Напомним, что при делении одного целого числа на другое в PostgreSQL в результате получится целое число, округлённое до ближайшего целого вниз. Чтобы этого избежать, переведите делимое в тип numeric."
   ]
  },
  {
   "cell_type": "code",
   "execution_count": null,
   "id": "b412f3b5",
   "metadata": {},
   "outputs": [],
   "source": [
    "WITH t AS (\n",
    "SELECT EXTRACT(MONTH from creation_date::date) AS month,\n",
    "       COUNT(DISTINCT id)    \n",
    "FROM stackoverflow.posts\n",
    "WHERE creation_date::date BETWEEN '2008-09-01' AND '2008-12-31'\n",
    "GROUP BY month\n",
    ")\n",
    "\n",
    "SELECT *,\n",
    "       ROUND(((count::numeric / LAG(count) OVER (ORDER BY month)) - 1) * 100,2) AS user_growth\n",
    "FROM t;"
   ]
  },
  {
   "cell_type": "markdown",
   "id": "d58548e4",
   "metadata": {},
   "source": [
    "#### Задание 20. Выгрузите данные активности пользователя, который опубликовал больше всего постов за всё время. Выведите данные за октябрь 2008 года в таком виде:\n",
    "#####  номер недели;\n",
    "##### дата и время последнего поста, опубликованного на этой неделе."
   ]
  },
  {
   "cell_type": "code",
   "execution_count": null,
   "id": "fe97330e",
   "metadata": {},
   "outputs": [],
   "source": [
    "WITH t AS (\n",
    "SELECT user_id,\n",
    "       COUNT(DISTINCT id) AS cnt\n",
    "FROM stackoverflow.posts\n",
    "GROUP BY user_id\n",
    "ORDER BY cnt DESC\n",
    "LIMIT 1),\n",
    "\n",
    "     t1 AS (\n",
    "SELECT p.user_id,\n",
    "       p.creation_date,\n",
    "       extract('week' from p.creation_date) AS week_number\n",
    "FROM stackoverflow.posts AS p\n",
    "JOIN t ON t.user_id = p.user_id\n",
    "WHERE DATE_TRUNC('month', p.creation_date)::date = '2008-10-01'\n",
    "           )\n",
    "\n",
    "SELECT DISTINCT week_number::numeric,\n",
    "       MAX(creation_date) OVER (PARTITION BY week_number)\n",
    "FROM t1\n",
    "ORDER BY week_number;"
   ]
  }
 ],
 "metadata": {
  "kernelspec": {
   "display_name": "Python 3 (ipykernel)",
   "language": "python",
   "name": "python3"
  },
  "language_info": {
   "codemirror_mode": {
    "name": "ipython",
    "version": 3
   },
   "file_extension": ".py",
   "mimetype": "text/x-python",
   "name": "python",
   "nbconvert_exporter": "python",
   "pygments_lexer": "ipython3",
   "version": "3.9.13"
  }
 },
 "nbformat": 4,
 "nbformat_minor": 5
}
